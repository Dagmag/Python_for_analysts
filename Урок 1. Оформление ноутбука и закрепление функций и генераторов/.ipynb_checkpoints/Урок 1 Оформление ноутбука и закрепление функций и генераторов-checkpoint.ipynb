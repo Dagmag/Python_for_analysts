{
 "cells": [
  {
   "cell_type": "markdown",
   "id": "6d46850c",
   "metadata": {},
   "source": [
    "# Примечание\n",
    "\n",
    "ДЗ сдаём в одном из двух вариантов <dir>\n",
    "1. на гитхабе - файл .ipynb\n",
    "2. файлом .html на платформе\n",
    "Для этого в юпитере можно экспортировать в одном из двух вариантов.\n",
    "\n",
    "## Условие 1:\n",
    "- Оформляйте ноутбук, используя эти советы:\n",
    "- Номер задачи - заголовок 2 \n",
    "- Номер подзадачи - заголовок 3 \n",
    "- Предоставленные наборы данных оформляйте, как код \n",
    "- Рекомендации для преподавателей по оценке задания:\n",
    "- Смотреть, чтобы студент красиво оформлял ноутбук, использовал ячейки с текстом, указывал номера заданий"
   ]
  },
  {
   "cell_type": "markdown",
   "id": "75941316",
   "metadata": {},
   "source": [
    "## Условие 2:\n",
    "На складе лежат разные фрукты в разном количестве.\n",
    "Нужно написать функцию, которая на вход принимает любое количество названий фруктов и их количество, а возвращает общее количество фруктов на складе\n"
   ]
  },
  {
   "cell_type": "code",
   "execution_count": 7,
   "id": "75731e94",
   "metadata": {},
   "outputs": [
    {
     "name": "stdout",
     "output_type": "stream",
     "text": [
      "Total fruits: 100\n"
     ]
    }
   ],
   "source": [
    "def fruits(**kwargs):\n",
    "    total_fruits = sum(kwargs.values())\n",
    "    return f'Total fruits: {total_fruits}'\n",
    "\n",
    "print(fruits(apples=23, bananas=12, orange=65))"
   ]
  },
  {
   "cell_type": "markdown",
   "id": "3c8876b9",
   "metadata": {},
   "source": [
    "## Условие 3:\n",
    "Дан список с затратами на рекламу. Но в данных есть ошибки, некоторые затраты имеют отрицательную величину. Удалите такие значения из списка и посчитайте суммарные затраты"
   ]
  },
  {
   "cell_type": "code",
   "execution_count": null,
   "id": "f9eefd9a",
   "metadata": {},
   "outputs": [],
   "source": [
    "[100, 125, -90, 345, 655, -1, 0, 200]"
   ]
  },
  {
   "cell_type": "markdown",
   "id": "7b6373bd",
   "metadata": {},
   "source": [
    "`Используйте list comprehensions`"
   ]
  },
  {
   "cell_type": "code",
   "execution_count": 11,
   "id": "44e2338c",
   "metadata": {},
   "outputs": [],
   "source": [
    "def funk(data: list):\n",
    "    \n",
    "    new_data = []\n",
    "    \n",
    "    for i in data:\n",
    "        if i > 0:\n",
    "            new_data.append(i)\n",
    "            \n",
    "    print(new_data)\n",
    "    print(f'Sum: {sum(new_data)}')"
   ]
  },
  {
   "cell_type": "code",
   "execution_count": 12,
   "id": "80d502b6",
   "metadata": {},
   "outputs": [
    {
     "name": "stdout",
     "output_type": "stream",
     "text": [
      "[100, 125, 345, 655, 200]\n",
      "Sum: 1425\n"
     ]
    }
   ],
   "source": [
    "data = [100, 125, -90, 345, 655, -1, 0, 200]\n",
    "\n",
    "funk(data)"
   ]
  },
  {
   "cell_type": "markdown",
   "id": "d5c12480",
   "metadata": {},
   "source": [
    "## Условие 4:\n",
    "Даны два списка."
   ]
  },
  {
   "cell_type": "markdown",
   "id": "57eb6e82",
   "metadata": {},
   "source": [
    "#### Дата покупки\n",
    "`['2021-09-14', '2021-12-15', '2021-09-08', '2021-12-05', '2021-10-09', '2021-09-30', '2021-12-22', '2021-11-29', '2021-12-24', '2021-11-26', '2021-10-27', '2021-12-18', '2021-11-09', '2021-11-23', '2021-09-27', '2021-10-02', '2021-12-27', '2021-09-20', '2021-12-13', '2021-11-01', '2021-11-09', '2021-12-06', '2021-12-08', '2021-10-09', '2021-10-31', '2021-09-30', '2021-11-09', '2021-12-13', '2021-10-26', '2021-12-09']`"
   ]
  },
  {
   "cell_type": "markdown",
   "id": "b5fe1a0f",
   "metadata": {},
   "source": [
    "#### Суммы покупок по датам\n",
    "`[1270, 8413, 9028, 3703, 5739, 4095, 295, 4944, 5723, 3701, 4471, 651, 7037, 4274, 6275, 4988, 6930, 2971, 6592, 2004, 2822, 519, 3406, 2732, 5015, 2008, 316, 6333, 5700, 2887]`"
   ]
  },
  {
   "cell_type": "markdown",
   "id": "edf9d9f7",
   "metadata": {},
   "source": [
    "##### 4.1 Найдите, какая выручка у компании в ноябре\n",
    "Используйте list comprehensions"
   ]
  },
  {
   "cell_type": "code",
   "execution_count": 13,
   "id": "fb0f1bd5",
   "metadata": {},
   "outputs": [],
   "source": [
    "date = ['2021-09-14', '2021-12-15', '2021-09-08', '2021-12-05', '2021-10-09', \n",
    "        '2021-09-30', '2021-12-22', '2021-11-29', '2021-12-24', '2021-11-26', \n",
    "        '2021-10-27', '2021-12-18', '2021-11-09', '2021-11-23', '2021-09-27', \n",
    "        '2021-10-02', '2021-12-27', '2021-09-20', '2021-12-13', '2021-11-01', \n",
    "        '2021-11-09', '2021-12-06', '2021-12-08', '2021-10-09', '2021-10-31', \n",
    "        '2021-09-30', '2021-11-09', '2021-12-13', '2021-10-26', '2021-12-09']\n",
    "cost = [1270, 8413, 9028, 3703, 5739, 4095, 295, 4944, 5723, 3701, \n",
    "        4471, 651, 7037, 4274, 6275, 4988, 6930, 2971, 6592, 2004, \n",
    "        2822, 519, 3406, 2732, 5015, 2008, 316, 6333, 5700, 2887]"
   ]
  },
  {
   "cell_type": "code",
   "execution_count": 18,
   "id": "2e6c2a94",
   "metadata": {},
   "outputs": [
    {
     "name": "stdout",
     "output_type": "stream",
     "text": [
      "[4944, 3701, 7037, 4274, 2004, 2822, 316]\n",
      "Revenue: 25098\n"
     ]
    }
   ],
   "source": [
    "print([cost[i] for i in range(0, len(date)-1) if \"-11\" in date[i]])\n",
    "print(f'Revenue: {sum([cost[i] for i in range(len(date)-1) if \"-11\" in date[i]])}')"
   ]
  },
  {
   "cell_type": "markdown",
   "id": "28d8274c",
   "metadata": {},
   "source": [
    "##### 4.2 Найдите выручку компании в зависимости от месяца\n",
    "Для этого напишите функцию, которая на вход принимает список с датами и список с выручкой, а на выходе словарь, где ключи - это месяцы, а значения - это выручка.\n",
    "Используйте аннотирование типов."
   ]
  },
  {
   "cell_type": "code",
   "execution_count": 19,
   "id": "6ba66fa5",
   "metadata": {},
   "outputs": [
    {
     "name": "stdout",
     "output_type": "stream",
     "text": [
      "{'09': 25647, '12': 45452, '10': 28645, '11': 25098}\n"
     ]
    }
   ],
   "source": [
    "def revenue(data1: list, data2: list) -> dict:\n",
    "    \n",
    "    revenue = {}\n",
    "    \n",
    "    for i in range(len(data1)):\n",
    "        \n",
    "        if date[i].split('-')[1] in revenue.keys():\n",
    "            revenue[date[i].split('-')[1]] += cost[i]\n",
    "        else:\n",
    "            revenue[date[i].split('-')[1]] = cost[i]\n",
    "            \n",
    "    return revenue\n",
    "\n",
    "print(revenue(date, cost))"
   ]
  }
 ],
 "metadata": {
  "kernelspec": {
   "display_name": "Python 3 (ipykernel)",
   "language": "python",
   "name": "python3"
  },
  "language_info": {
   "codemirror_mode": {
    "name": "ipython",
    "version": 3
   },
   "file_extension": ".py",
   "mimetype": "text/x-python",
   "name": "python",
   "nbconvert_exporter": "python",
   "pygments_lexer": "ipython3",
   "version": "3.9.13"
  }
 },
 "nbformat": 4,
 "nbformat_minor": 5
}
